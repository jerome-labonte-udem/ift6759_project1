{
 "cells": [
  {
   "cell_type": "code",
   "execution_count": null,
   "metadata": {},
   "outputs": [],
   "source": [
    "import sys\n",
    "sys.path.append(\"..\")\n",
    "\n",
    "import numpy as np\n",
    "import tensorflow as tf\n",
    "import matplotlib.pyplot as plt\n",
    "from tensorflow.keras import datasets\n",
    "from models.CNN2D import CNN2D"
   ]
  },
  {
   "cell_type": "code",
   "execution_count": null,
   "metadata": {},
   "outputs": [],
   "source": [
    "model = CNN2D()\n",
    "model.compile(loss=['mse','mse','mse','mse'],\n",
    "              loss_weights=[0.25,0.25,0.25,0.25],\n",
    "              optimizer='adam',\n",
    "              metrics=['mse','mse','mse','mse'])\n",
    "# Temporarily use cifar10 images before real images dataloader is available\n",
    "(train_images, train_labels), (test_images, test_labels) = datasets.cifar10.load_data()\n",
    "# Normalize pixel values to be between 0 and 1\n",
    "train_images, test_images = train_images / 255.0, test_images / 255.0\n",
    "\n",
    "# Dummy metadata\n",
    "train_metadata = np.random.uniform(size=(train_images.shape[0], 5))\n",
    "test_metadata = np.random.uniform(size=(test_images.shape[0], 5))\n",
    "\n",
    "# Create dummy outputs, should be GHI at t0, t0 + 1, t0 + 3 and t0 + 6\n",
    "train_labels = np.array([(x, x+5, 2*x, x+100) for x in train_labels])\n",
    "test_labels = np.array([(x, x+5, 2*x, x+100) for x in test_labels])\n",
    "\n",
    "# Build model with inputs shapes to initialize weights\n",
    "model.build([(None, 32, 32, 3), (None, 5)])\n",
    "print(model.summary())\n",
    "\n",
    "# Fit model with firt 5000 examples\n",
    "history = model.fit([train_images[:5000], train_metadata[:5000]],\n",
    "                    [train_labels[:5000, 0],\n",
    "                     train_labels[:5000, 1],\n",
    "                     train_labels[:5000, 2],\n",
    "                     train_labels[:5000, 3]],\n",
    "                    epochs=5,\n",
    "                    validation_data=([test_images, test_metadata],\n",
    "                                     [test_labels[:, 0],\n",
    "                                      test_labels[:, 1],\n",
    "                                      test_labels[:, 2],\n",
    "                                      test_labels[:, 3]]))"
   ]
  },
  {
   "cell_type": "code",
   "execution_count": null,
   "metadata": {},
   "outputs": [],
   "source": [
    "plt.plot(history.history['output_1_mse'], label='t0_mse')\n",
    "plt.plot(history.history['output_2_mse'], label='t1_mse')\n",
    "plt.plot(history.history['output_3_mse'], label='t2_mse')\n",
    "plt.plot(history.history['output_4_mse'], label='t3_mse')\n",
    "\n",
    "plt.xlabel('Epoch')\n",
    "plt.ylabel('train MSE')\n",
    "plt.ylim(0, 100)\n",
    "plt.legend(loc='lower right')"
   ]
  },
  {
   "cell_type": "code",
   "execution_count": null,
   "metadata": {},
   "outputs": [],
   "source": [
    "plt.plot(history.history['val_output_1_mse'], label='t0_mse')\n",
    "plt.plot(history.history['val_output_2_mse'], label='t1_mse')\n",
    "plt.plot(history.history['val_output_3_mse'], label='t2_mse')\n",
    "plt.plot(history.history['val_output_4_mse'], label='t3_mse')\n",
    "\n",
    "plt.xlabel('Epoch')\n",
    "plt.ylabel('val MSE')\n",
    "plt.legend(loc='lower right')"
   ]
  },
  {
   "cell_type": "code",
   "execution_count": null,
   "metadata": {},
   "outputs": [],
   "source": [
    "test_loss = model.evaluate([test_images, test_metadata],\n",
    "                                     [test_labels[:, 0],\n",
    "                                      test_labels[:, 1],\n",
    "                                      test_labels[:, 2],\n",
    "                                      test_labels[:, 3]],\n",
    "                                     verbose=2)\n",
    "print(test_loss)"
   ]
  }
 ],
 "metadata": {
  "kernelspec": {
   "display_name": "PyCharm (untitled3)",
   "language": "python",
   "name": "pycharm-a443294f"
  },
  "language_info": {
   "codemirror_mode": {
    "name": "ipython",
    "version": 3
   },
   "file_extension": ".py",
   "mimetype": "text/x-python",
   "name": "python",
   "nbconvert_exporter": "python",
   "pygments_lexer": "ipython3",
   "version": "3.7.4"
  }
 },
 "nbformat": 4,
 "nbformat_minor": 4
}
